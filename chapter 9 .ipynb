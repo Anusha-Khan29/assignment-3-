{
 "cells": [
  {
   "cell_type": "markdown",
   "id": "1ee4bc47",
   "metadata": {},
   "source": [
    "#  dictionaries "
   ]
  },
  {
   "cell_type": "code",
   "execution_count": 1,
   "id": "d4df8766",
   "metadata": {},
   "outputs": [
    {
     "name": "stdout",
     "output_type": "stream",
     "text": [
      "{'lipstick': 12, 'phone': 3, 'tissues': 75}\n"
     ]
    }
   ],
   "source": [
    "#dictionaries \n",
    "purse = dict()\n",
    "purse['lipstick'] = 12\n",
    "purse['phone'] = 3\n",
    "purse['tissues'] = 75\n",
    "print(purse)"
   ]
  },
  {
   "cell_type": "code",
   "execution_count": 2,
   "id": "9479e306",
   "metadata": {},
   "outputs": [
    {
     "name": "stdout",
     "output_type": "stream",
     "text": [
      "{'chuck': 1, 'fred': 42, 'jan': 100}\n"
     ]
    }
   ],
   "source": [
    "#Dictionary Literals\n",
    "jjj = { 'chuck' : 1 , 'fred' : 42, 'jan': 100}\n",
    "print(jjj)"
   ]
  },
  {
   "cell_type": "code",
   "execution_count": 6,
   "id": "522a9ae3",
   "metadata": {},
   "outputs": [
    {
     "ename": "NameError",
     "evalue": "name 'name' is not defined",
     "output_type": "error",
     "traceback": [
      "\u001b[1;31m---------------------------------------------------------------------------\u001b[0m",
      "\u001b[1;31mNameError\u001b[0m                                 Traceback (most recent call last)",
      "Cell \u001b[1;32mIn[6], line 2\u001b[0m\n\u001b[0;32m      1\u001b[0m \u001b[38;5;66;03m#loops and dictionaries \u001b[39;00m\n\u001b[1;32m----> 2\u001b[0m \u001b[38;5;28;01mif\u001b[39;00m name \u001b[38;5;129;01min\u001b[39;00m counts:\n\u001b[0;32m      3\u001b[0m  x \u001b[38;5;241m=\u001b[39m counts[name]\n\u001b[0;32m      4\u001b[0m \u001b[38;5;28;01melse\u001b[39;00m :\n",
      "\u001b[1;31mNameError\u001b[0m: name 'name' is not defined"
     ]
    }
   ],
   "source": [
    "#loops and dictionaries \n",
    "if name in counts:\n",
    " x = counts[name]\n",
    "else :\n",
    " x = 0\n",
    "x = counts.get(name, 0)"
   ]
  },
  {
   "cell_type": "code",
   "execution_count": null,
   "id": "9bda96c0",
   "metadata": {},
   "outputs": [],
   "source": []
  }
 ],
 "metadata": {
  "kernelspec": {
   "display_name": "Python 3 (ipykernel)",
   "language": "python",
   "name": "python3"
  },
  "language_info": {
   "codemirror_mode": {
    "name": "ipython",
    "version": 3
   },
   "file_extension": ".py",
   "mimetype": "text/x-python",
   "name": "python",
   "nbconvert_exporter": "python",
   "pygments_lexer": "ipython3",
   "version": "3.11.4"
  }
 },
 "nbformat": 4,
 "nbformat_minor": 5
}
